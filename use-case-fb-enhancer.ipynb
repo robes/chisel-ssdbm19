{
 "cells": [
  {
   "cell_type": "markdown",
   "metadata": {},
   "source": [
    "## Use Case: FaceBase Enhancers\n",
    "\n",
    "In this use case example, we demonstrate evolving the FaceBase 'enhancer' table schema. The table contains \"enhancer reporter assays\" which include details on a test genomic sequence, the original genomic loci, the other/target genomic loci, and the genomic loci used for visualization. They also include lists of nearest affected genes and lists of anatomical structures that exhibited phenotypic variance. The FaceBase use case is described in greater detail in earlier work [1].\n",
    "\n",
    "1. Bugacov, Alejandro and Czajkowski, Karl and Kesselman, Carl and Kumar, Anoop and Schuler, Robert E. and Tangmunarunkit, Hongsuda. 2017. Experiences with DERIVA: An asset management platform for accelerating eScience."
   ]
  },
  {
   "cell_type": "code",
   "execution_count": 1,
   "metadata": {},
   "outputs": [],
   "source": [
    "import chisel"
   ]
  },
  {
   "cell_type": "code",
   "execution_count": 2,
   "metadata": {},
   "outputs": [],
   "source": [
    "# Connect to the source database with the schema we want to evolve. We are connecting\n",
    "# to the database using a 'versioned' catalog identifier ('1@2RM-3X92-ET06') so that\n",
    "# this notebook should be runable in the future even as the FaceBase database evolves.\n",
    "catalog = chisel.connect('https://www.facebase.org/ermrest/catalog/1@2RM-3X92-ET06')"
   ]
  },
  {
   "cell_type": "code",
   "execution_count": 3,
   "metadata": {},
   "outputs": [],
   "source": [
    "# For demonstration purposes, we will materialize the evolved relations in a\n",
    "# \"local\" (i.e., file system) catalog here. The directory \"./catalog\" must\n",
    "# exist for the connect function to return without error.\n",
    "local = chisel.connect('./catalog')"
   ]
  },
  {
   "cell_type": "code",
   "execution_count": 4,
   "metadata": {},
   "outputs": [],
   "source": [
    "# For convenience, assign these tables to variables in the script\n",
    "enhancer = catalog['isa']['enhancer'] # the table we want to evolve\n",
    "anatomy = catalog['vocab']['anatomy'] # a vocabulary table\n",
    "gene_names = catalog['vocab']['gene'] # a vocabulary table"
   ]
  },
  {
   "cell_type": "code",
   "execution_count": 5,
   "metadata": {},
   "outputs": [],
   "source": [
    "# Step 1: reify a sub-concept, the 'original species' loci, from \n",
    "#         the enhancer table into its own table structure.\n",
    "original_species_assembly = enhancer.reify_sub(\n",
    "    enhancer['original_species_assembly'],\n",
    "    enhancer['original_species_chromosome'],\n",
    "    enhancer['original_species_start'],\n",
    "    enhancer['original_species_end']\n",
    ")"
   ]
  },
  {
   "cell_type": "code",
   "execution_count": 6,
   "metadata": {},
   "outputs": [
    {
     "data": {
      "text/markdown": [
       "### Table \"None.enhancer\"\n",
       "| Column                      | Type    | Nullable | Default | Comment |\n",
       "|-----------------------------|---------|----------|---------|---------|\n",
       "| id                          | serial4 | False    | None    | None    |\n",
       "| original\\_species\\_assembly | text    | True     | None    | None    |\n",
       "| original\\_species\\_chromosome | text    | True     | None    | None    |\n",
       "| original\\_species\\_start    | int4    | True     | None    | None    |\n",
       "| original\\_species\\_end      | int4    | True     | None    | None    |\n"
      ],
      "text/plain": [
       "### Table \"None.enhancer\"\n",
       "| Column                      | Type    | Nullable | Default | Comment |\n",
       "|-----------------------------|---------|----------|---------|---------|\n",
       "| id                          | serial4 | False    | None    | None    |\n",
       "| original_species_assembly   | text    | True     | None    | None    |\n",
       "| original_species_chromosome | text    | True     | None    | None    |\n",
       "| original_species_start      | int4    | True     | None    | None    |\n",
       "| original_species_end        | int4    | True     | None    | None    |"
      ]
     },
     "execution_count": 6,
     "metadata": {},
     "output_type": "execute_result"
    }
   ],
   "source": [
    "# Although the new relation has not been materialized, we can look \n",
    "# at its defition already.\n",
    "original_species_assembly.describe()"
   ]
  },
  {
   "cell_type": "code",
   "execution_count": 7,
   "metadata": {},
   "outputs": [],
   "source": [
    "# Step 2: reify the 'visualization' loci sub-concept.\n",
    "visualization_assembly = enhancer.reify_sub(\n",
    "    enhancer['visualization_assembly'],\n",
    "    enhancer['visualization_assembly_chromosome'],\n",
    "    enhancer['visualization_assembly_start'],\n",
    "    enhancer['visualization_assembly_end']\n",
    ")"
   ]
  },
  {
   "cell_type": "code",
   "execution_count": 8,
   "metadata": {},
   "outputs": [],
   "source": [
    "# Step 3: reify the 'other' organism loci sub-concept.\n",
    "other_assembly = enhancer.reify_sub(\n",
    "    enhancer['other_assembly'],\n",
    "    enhancer['other_assembly_chromosome'],\n",
    "    enhancer['other_assembly_start'],\n",
    "    enhancer['other_assembly_end']\n",
    ")"
   ]
  },
  {
   "cell_type": "code",
   "execution_count": 9,
   "metadata": {},
   "outputs": [],
   "source": [
    "# Step 4: now convert a nested, non-normal form, list of gene names into a \n",
    "#         normalized structure and align them to the gene name vocabulary.\n",
    "enhancer_closest_genes = enhancer['list_of_closest_genes'].to_tags(gene_names)"
   ]
  },
  {
   "cell_type": "code",
   "execution_count": 10,
   "metadata": {
    "scrolled": true
   },
   "outputs": [
    {
     "data": {
      "text/markdown": [
       "### Table \"None.019acbd0830911e9816cac87a3187979_gene\"\n",
       "| Column                | Type    | Nullable | Default | Comment                                          |\n",
       "|-----------------------|---------|----------|---------|--------------------------------------------------|\n",
       "| id                    | serial4 | False    | None    | None                                             |\n",
       "| list\\_of\\_closest\\_genes | text    | False    | None    | The preferred human\\-readable name for this term\\. |\n"
      ],
      "text/plain": [
       "### Table \"None.019acbd0830911e9816cac87a3187979_gene\"\n",
       "| Column                | Type    | Nullable | Default | Comment                                          |\n",
       "|-----------------------|---------|----------|---------|--------------------------------------------------|\n",
       "| id                    | serial4 | False    | None    | None                                             |\n",
       "| list_of_closest_genes | text    | False    | None    | The preferred human-readable name for this term. |"
      ]
     },
     "execution_count": 10,
     "metadata": {},
     "output_type": "execute_result"
    }
   ],
   "source": [
    "# Again, we can look at the new relation's definition.\n",
    "enhancer_closest_genes.describe()"
   ]
  },
  {
   "cell_type": "code",
   "execution_count": 11,
   "metadata": {},
   "outputs": [],
   "source": [
    "# Step 5: here we rename the column 'list_of_...' to 'closest_genes'\n",
    "enhancer_closest_genes = enhancer_closest_genes.select(\n",
    "    enhancer_closest_genes['id'].alias('enhancer_id'),\n",
    "    enhancer_closest_genes['list_of_closest_genes'].alias('closest_genes')\n",
    ")"
   ]
  },
  {
   "cell_type": "code",
   "execution_count": 12,
   "metadata": {
    "scrolled": true
   },
   "outputs": [
    {
     "data": {
      "text/markdown": [
       "### Table \"None.07bf76dc830911e9816cac87a3187979_gene\"\n",
       "| Column        | Type    | Nullable | Default | Comment                                          |\n",
       "|---------------|---------|----------|---------|--------------------------------------------------|\n",
       "| enhancer\\_id  | serial4 | False    | None    | None                                             |\n",
       "| closest\\_genes | text    | False    | None    | The preferred human\\-readable name for this term\\. |\n"
      ],
      "text/plain": [
       "### Table \"None.07bf76dc830911e9816cac87a3187979_gene\"\n",
       "| Column        | Type    | Nullable | Default | Comment                                          |\n",
       "|---------------|---------|----------|---------|--------------------------------------------------|\n",
       "| enhancer_id   | serial4 | False    | None    | None                                             |\n",
       "| closest_genes | text    | False    | None    | The preferred human-readable name for this term. |"
      ]
     },
     "execution_count": 12,
     "metadata": {},
     "output_type": "execute_result"
    }
   ],
   "source": [
    "# See the corrected definition.\n",
    "enhancer_closest_genes.describe()"
   ]
  },
  {
   "cell_type": "code",
   "execution_count": 13,
   "metadata": {},
   "outputs": [
    {
     "data": {
      "text/plain": [
       "[{'enhancer_id': 3, 'closest_genes': 'Smad4'},\n",
       " {'enhancer_id': 7, 'closest_genes': 'COL1A2'},\n",
       " {'enhancer_id': 8, 'closest_genes': 'Fgfr1'},\n",
       " {'enhancer_id': 14, 'closest_genes': 'SOX5'},\n",
       " {'enhancer_id': 16, 'closest_genes': 'Sox9'},\n",
       " {'enhancer_id': 22, 'closest_genes': 'COL1A2'},\n",
       " {'enhancer_id': 23, 'closest_genes': 'COL1A2'},\n",
       " {'enhancer_id': 44, 'closest_genes': 'SOX5'},\n",
       " {'enhancer_id': 43, 'closest_genes': 'SOX5'},\n",
       " {'enhancer_id': 45, 'closest_genes': 'SOX5'},\n",
       " {'enhancer_id': 42, 'closest_genes': 'SOX5'}]"
      ]
     },
     "execution_count": 13,
     "metadata": {},
     "output_type": "execute_result"
    }
   ],
   "source": [
    "# We can also fetch the relations to preview the new aligned relation.\n",
    "enhancer_closest_genes.fetch()"
   ]
  },
  {
   "cell_type": "code",
   "execution_count": 14,
   "metadata": {},
   "outputs": [],
   "source": [
    "# Step 6: do the same for the nested, non-normal form, list of anatomical structures.\n",
    "enhancer_anotomical_structure = \\\n",
    "    enhancer['list_of_anatomical_structures'].to_tags(anatomy)"
   ]
  },
  {
   "cell_type": "code",
   "execution_count": 15,
   "metadata": {},
   "outputs": [],
   "source": [
    "# Step 7: again rename the now normalized column.\n",
    "enhancer_anotomical_structure = enhancer_anotomical_structure.select(\n",
    "    enhancer_anotomical_structure['id'].alias('enhancer_id'),\n",
    "    enhancer_anotomical_structure['list_of_anatomical_structures'].alias(\n",
    "        'anatomical_structures')\n",
    ")"
   ]
  },
  {
   "cell_type": "code",
   "execution_count": 16,
   "metadata": {},
   "outputs": [
    {
     "data": {
      "text/plain": [
       "[{'enhancer_id': 4, 'anatomical_structures': 'facial mesenchyme'},\n",
       " {'enhancer_id': 4, 'anatomical_structures': 'somite'},\n",
       " {'enhancer_id': 4, 'anatomical_structures': 'nose'},\n",
       " {'enhancer_id': 1, 'anatomical_structures': 'ear'},\n",
       " {'enhancer_id': 13, 'anatomical_structures': 'nose'},\n",
       " {'enhancer_id': 2, 'anatomical_structures': 'nose'},\n",
       " {'enhancer_id': 2, 'anatomical_structures': 'secondary palate'},\n",
       " {'enhancer_id': 3, 'anatomical_structures': 'nose'},\n",
       " {'enhancer_id': 6, 'anatomical_structures': 'nose'},\n",
       " {'enhancer_id': 7, 'anatomical_structures': 'pharyngeal arch'},\n",
       " {'enhancer_id': 7, 'anatomical_structures': 'facial mesenchyme'},\n",
       " {'enhancer_id': 8, 'anatomical_structures': 'facial mesenchyme'},\n",
       " {'enhancer_id': 9, 'anatomical_structures': 'forebrain'},\n",
       " {'enhancer_id': 9, 'anatomical_structures': 'hindbrain'},\n",
       " {'enhancer_id': 9, 'anatomical_structures': 'midbrain'},\n",
       " {'enhancer_id': 9, 'anatomical_structures': 'neural tube'},\n",
       " {'enhancer_id': 9, 'anatomical_structures': 'nose'},\n",
       " {'enhancer_id': 9, 'anatomical_structures': 'somite'},\n",
       " {'enhancer_id': 10, 'anatomical_structures': 'pharyngeal arch'},\n",
       " {'enhancer_id': 11, 'anatomical_structures': 'pharyngeal arch'},\n",
       " {'enhancer_id': 11, 'anatomical_structures': 'facial mesenchyme'},\n",
       " {'enhancer_id': 11, 'anatomical_structures': 'nose'},\n",
       " {'enhancer_id': 12, 'anatomical_structures': 'pharyngeal arch'},\n",
       " {'enhancer_id': 12, 'anatomical_structures': 'hindbrain'},\n",
       " {'enhancer_id': 14, 'anatomical_structures': 'pharyngeal arch'},\n",
       " {'enhancer_id': 14, 'anatomical_structures': 'nose'},\n",
       " {'enhancer_id': 15, 'anatomical_structures': 'nose'},\n",
       " {'enhancer_id': 15, 'anatomical_structures': 'somite'},\n",
       " {'enhancer_id': 16, 'anatomical_structures': 'pharyngeal arch'},\n",
       " {'enhancer_id': 16, 'anatomical_structures': 'nose'},\n",
       " {'enhancer_id': 41, 'anatomical_structures': 'midbrain'},\n",
       " {'enhancer_id': 41, 'anatomical_structures': 'olfactory placode'},\n",
       " {'enhancer_id': 41, 'anatomical_structures': 'neural tube'},\n",
       " {'enhancer_id': 20, 'anatomical_structures': 'frontonasal prominence'},\n",
       " {'enhancer_id': 20, 'anatomical_structures': 'maxilla'},\n",
       " {'enhancer_id': 20, 'anatomical_structures': 'dentary tooth'},\n",
       " {'enhancer_id': 21, 'anatomical_structures': 'frontonasal prominence'},\n",
       " {'enhancer_id': 21, 'anatomical_structures': 'maxilla'},\n",
       " {'enhancer_id': 21, 'anatomical_structures': 'dentary tooth'},\n",
       " {'enhancer_id': 22, 'anatomical_structures': 'forebrain'},\n",
       " {'enhancer_id': 22, 'anatomical_structures': 'midbrain'},\n",
       " {'enhancer_id': 22, 'anatomical_structures': 'hindbrain'},\n",
       " {'enhancer_id': 22, 'anatomical_structures': 'frontonasal prominence'},\n",
       " {'enhancer_id': 22, 'anatomical_structures': 'maxilla'},\n",
       " {'enhancer_id': 22, 'anatomical_structures': 'dentary tooth'},\n",
       " {'enhancer_id': 22, 'anatomical_structures': 'somite'},\n",
       " {'enhancer_id': 23, 'anatomical_structures': 'forebrain'},\n",
       " {'enhancer_id': 23, 'anatomical_structures': 'midbrain'},\n",
       " {'enhancer_id': 23, 'anatomical_structures': 'hindbrain'},\n",
       " {'enhancer_id': 24, 'anatomical_structures': 'forebrain'},\n",
       " {'enhancer_id': 24, 'anatomical_structures': 'midbrain'},\n",
       " {'enhancer_id': 24, 'anatomical_structures': 'maxilla'},\n",
       " {'enhancer_id': 24, 'anatomical_structures': 'dentary tooth'},\n",
       " {'enhancer_id': 24, 'anatomical_structures': 'somite'},\n",
       " {'enhancer_id': 24, 'anatomical_structures': 'facial mesenchyme'},\n",
       " {'enhancer_id': 25, 'anatomical_structures': 'dentary tooth'},\n",
       " {'enhancer_id': 25, 'anatomical_structures': 'somite'},\n",
       " {'enhancer_id': 28, 'anatomical_structures': 'Frontonasal process'},\n",
       " {'enhancer_id': 28, 'anatomical_structures': 'pharyngeal arch'},\n",
       " {'enhancer_id': 28, 'anatomical_structures': 'pharyngeal arch'},\n",
       " {'enhancer_id': 28, 'anatomical_structures': 'somite'},\n",
       " {'enhancer_id': 30, 'anatomical_structures': 'Frontonasal process'},\n",
       " {'enhancer_id': 30, 'anatomical_structures': 'pharyngeal arch'},\n",
       " {'enhancer_id': 30, 'anatomical_structures': 'somite'},\n",
       " {'enhancer_id': 34, 'anatomical_structures': 'frontonasal prominence'},\n",
       " {'enhancer_id': 37, 'anatomical_structures': 'forebrain'},\n",
       " {'enhancer_id': 37, 'anatomical_structures': 'midbrain'},\n",
       " {'enhancer_id': 37, 'anatomical_structures': 'hindbrain'},\n",
       " {'enhancer_id': 37, 'anatomical_structures': 'frontonasal prominence'},\n",
       " {'enhancer_id': 37, 'anatomical_structures': 'maxilla'},\n",
       " {'enhancer_id': 37, 'anatomical_structures': 'dentary tooth'},\n",
       " {'enhancer_id': 39, 'anatomical_structures': 'forebrain'},\n",
       " {'enhancer_id': 39, 'anatomical_structures': 'midbrain'},\n",
       " {'enhancer_id': 39, 'anatomical_structures': 'hindbrain'},\n",
       " {'enhancer_id': 39, 'anatomical_structures': 'frontonasal prominence'},\n",
       " {'enhancer_id': 40, 'anatomical_structures': 'forebrain'},\n",
       " {'enhancer_id': 40, 'anatomical_structures': 'midbrain'},\n",
       " {'enhancer_id': 40, 'anatomical_structures': 'hindbrain'},\n",
       " {'enhancer_id': 33, 'anatomical_structures': 'frontonasal prominence'},\n",
       " {'enhancer_id': 35, 'anatomical_structures': 'Frontonasal process'},\n",
       " {'enhancer_id': 35, 'anatomical_structures': 'midbrain'},\n",
       " {'enhancer_id': 36, 'anatomical_structures': 'midbrain'},\n",
       " {'enhancer_id': 43, 'anatomical_structures': 'Frontonasal process'},\n",
       " {'enhancer_id': 43, 'anatomical_structures': 'mouth'},\n",
       " {'enhancer_id': 45, 'anatomical_structures': 'forebrain'},\n",
       " {'enhancer_id': 45, 'anatomical_structures': 'frontonasal prominence'},\n",
       " {'enhancer_id': 47, 'anatomical_structures': 'midbrain'},\n",
       " {'enhancer_id': 47, 'anatomical_structures': 'hindbrain'},\n",
       " {'enhancer_id': 47, 'anatomical_structures': 'neural tube'},\n",
       " {'enhancer_id': 48, 'anatomical_structures': 'midbrain'},\n",
       " {'enhancer_id': 48, 'anatomical_structures': 'hindbrain'},\n",
       " {'enhancer_id': 48, 'anatomical_structures': 'dentary tooth'},\n",
       " {'enhancer_id': 49, 'anatomical_structures': 'forebrain'},\n",
       " {'enhancer_id': 49, 'anatomical_structures': 'midbrain'},\n",
       " {'enhancer_id': 50, 'anatomical_structures': 'olfactory placode'},\n",
       " {'enhancer_id': 51, 'anatomical_structures': 'olfactory placode'},\n",
       " {'enhancer_id': 52, 'anatomical_structures': 'midbrain'},\n",
       " {'enhancer_id': 52, 'anatomical_structures': 'midbrain'},\n",
       " {'enhancer_id': 52, 'anatomical_structures': 'hindbrain'},\n",
       " {'enhancer_id': 52, 'anatomical_structures': 'maxilla'},\n",
       " {'enhancer_id': 52, 'anatomical_structures': 'mandible'},\n",
       " {'enhancer_id': 52, 'anatomical_structures': 'pharyngeal arch'},\n",
       " {'enhancer_id': 53, 'anatomical_structures': 'midbrain'},\n",
       " {'enhancer_id': 54, 'anatomical_structures': 'midbrain'}]"
      ]
     },
     "execution_count": 16,
     "metadata": {},
     "output_type": "execute_result"
    }
   ],
   "source": [
    "# And again, preview the aligned terms.\n",
    "enhancer_anotomical_structure.fetch()"
   ]
  },
  {
   "cell_type": "code",
   "execution_count": 17,
   "metadata": {},
   "outputs": [],
   "source": [
    "# Finally, materialize the relations to the 'local' catalog. To evolve the source\n",
    "# catalog's schema instead, we would simply replace 'local' with 'catalog' below.\n",
    "with local.evolve():\n",
    "   local['.']['original_species_assembly.csv'] = original_species_assembly\n",
    "   local['.']['visualization_assembly.csv'] = visualization_assembly\n",
    "   local['.']['other_assembly.csv'] = other_assembly\n",
    "   local['.']['enhancer_closest_genes.csv'] = enhancer_closest_genes\n",
    "   local['.']['enhancer_anotomical_structure.csv'] = enhancer_anotomical_structure"
   ]
  },
  {
   "cell_type": "code",
   "execution_count": null,
   "metadata": {},
   "outputs": [],
   "source": []
  }
 ],
 "metadata": {
  "kernelspec": {
   "display_name": "Python 3",
   "language": "python",
   "name": "python3"
  },
  "language_info": {
   "codemirror_mode": {
    "name": "ipython",
    "version": 3
   },
   "file_extension": ".py",
   "mimetype": "text/x-python",
   "name": "python",
   "nbconvert_exporter": "python",
   "pygments_lexer": "ipython3",
   "version": "3.7.3"
  }
 },
 "nbformat": 4,
 "nbformat_minor": 2
}
